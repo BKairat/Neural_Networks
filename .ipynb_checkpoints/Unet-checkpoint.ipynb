{
 "cells": [
  {
   "cell_type": "code",
   "execution_count": 2,
   "id": "d035aaa7-42b8-458c-8955-ccde9491ab3f",
   "metadata": {
    "tags": []
   },
   "outputs": [],
   "source": [
    "import albumentations as A"
   ]
  },
  {
   "cell_type": "code",
   "execution_count": 4,
   "id": "f4c07c30-b1f6-407c-8213-a4dbdd917b43",
   "metadata": {
    "tags": []
   },
   "outputs": [],
   "source": [
    "import torch\n",
    "import torch.nn as nn\n",
    "import torch.nn.functional as F"
   ]
  },
  {
   "cell_type": "code",
   "execution_count": null,
   "id": "e0730f0e-a8eb-453c-892e-697e6ea2de1d",
   "metadata": {},
   "outputs": [],
   "source": [
    "class CNA(nn.Module):\n",
    "    def __init__(self, in_nc, out_nc, stride=1):\n",
    "        super().__init__()\n",
    "        \n",
    "        self.conv = nn.Conv2d(in_nc, out_nc, 3, stride=stride, padding=1, dias=False)\n",
    "        self.norm = nn.BatchNorm2d(out_nc)\n",
    "        self.act = nn.GELU()\n",
    "        "
   ]
  },
  {
   "cell_type": "code",
   "execution_count": null,
   "id": "fe3396da-f167-4fbb-a980-f7fb0f6793f0",
   "metadata": {},
   "outputs": [],
   "source": [
    "class UnetBlock:\n",
    "    def __init__(self, in_nc, out_nc, stride=1, inner_block=None):\n",
    "        super().__init__()\n",
    "        \n",
    "        self.conv1 = CNA(in_nc, int_nc, stride=2)\n",
    "        self.conv2 = CNA(in_nc, in_nc)\n",
    "        self.inner_block = inner_block\n",
    "        self.conv3 = CNA(in_nc, in_nc)\n",
    "        self.conv_cat = nn.Conv2d(in_nc, out_nc, 3, padding=1)\n",
    "    \n",
    "    def forward(self, x):\n",
    "        _,_,h,w = x.shape\n",
    "        \n",
    "        inner = self.conv1(x)\n",
    "        inner = self.conv2(inner)\n",
    "        inner = self.inner_block(inner)\n",
    "        inner = self.conv3(inner)\n",
    "        \n",
    "        inner = F.upsample(inner, size=(h,w), mode='bilinear')\n",
    "        inner = torch.cat((x, inner), axis=1)\n",
    "        out = self.conv_cat(inner)\n",
    "        \n",
    "        return out\n",
    "        "
   ]
  },
  {
   "cell_type": "code",
   "execution_count": 7,
   "id": "08eae0be-28f5-493e-a76d-ae9e2b848093",
   "metadata": {
    "tags": []
   },
   "outputs": [],
   "source": [
    "class Unet(nn.Module):\n",
    "    def __init__(self, nc):\n",
    "        super().__init__()\n",
    "        \n",
    "        self.act = nn.GELU()\n",
    "        \n",
    "        self.conv1 = nn.Conv2D(1, nc, 7, stride=1, padding=3)\n",
    "        self.conv2 = nn.Conv2D(nc, nc, 3, stride=1, padding=3)\n",
    "        \n",
    "        self.conv3 = nn.Conv2D(nc, 2*nc, 7, stride=1, padding=1)\n",
    "        self.conv4 = nn.Conv2D(2*nc, nc, 7, stride=1, padding=1)\n",
    "        \n",
    "        self.conv5 = nn.Conv2D(3*nc, nc, 7, stride=1, padding=3)\n",
    "        self.conv6 = nn.Conv2D(nc, 1, 7, stride=1, padding=3)\n",
    "        \n",
    "        \n",
    "    def forward(self, x):\n",
    "        fea = self.conv1(x)\n",
    "        fea = self.act(fea)\n",
    "        fea = self.conv2(fea)\n",
    "        fea = self.act(fea)\n",
    "        \n",
    "        _,_,h,w = fea.shape\n",
    "        \n",
    "        fea_deep = self.conv3(fea)\n",
    "        fea_deep = self.act(fea_deep)\n",
    "        fea_deep = self.conv4(fea_deep)\n",
    "        fea_deep = self.act(fea_deep)\n",
    "        fea_deep = F.upsample(fea_deep, size = (h, w), mode = 'bilinear')\n",
    "        \n",
    "        fea = torch.cat((fea, fea_deep), axis=1)\n",
    "        fea = self.act(fea)\n",
    "        del fea_deep\n",
    "        fea = self.conv5(fea)\n",
    "        fea = self.act(fea)\n",
    "        fea = self.conv6(fea)\n",
    "        return fea\n"
   ]
  },
  {
   "cell_type": "code",
   "execution_count": null,
   "id": "a435ab25-c0d9-4e12-a7d6-1377191b4897",
   "metadata": {},
   "outputs": [],
   "source": [
    "unet_model = Unet(32)"
   ]
  },
  {
   "cell_type": "code",
   "execution_count": null,
   "id": "9813190c-6216-4cb3-8e73-084c1dd6e1f1",
   "metadata": {},
   "outputs": [],
   "source": [
    "tensor = torch.rand((1, 1))"
   ]
  }
 ],
 "metadata": {
  "kernelspec": {
   "display_name": "Python 3 (ipykernel)",
   "language": "python",
   "name": "python3"
  },
  "language_info": {
   "codemirror_mode": {
    "name": "ipython",
    "version": 3
   },
   "file_extension": ".py",
   "mimetype": "text/x-python",
   "name": "python",
   "nbconvert_exporter": "python",
   "pygments_lexer": "ipython3",
   "version": "3.11.5"
  }
 },
 "nbformat": 4,
 "nbformat_minor": 5
}
