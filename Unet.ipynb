{
 "cells": [
  {
   "cell_type": "code",
   "execution_count": 15,
   "id": "d035aaa7-42b8-458c-8955-ccde9491ab3f",
   "metadata": {
    "tags": []
   },
   "outputs": [],
   "source": [
    "import albumentations as A"
   ]
  },
  {
   "cell_type": "code",
   "execution_count": 16,
   "id": "f4c07c30-b1f6-407c-8213-a4dbdd917b43",
   "metadata": {
    "tags": []
   },
   "outputs": [],
   "source": [
    "import torch\n",
    "import torch.nn as nn\n",
    "import torch.nn.functional as F"
   ]
  },
  {
   "cell_type": "code",
   "execution_count": 34,
   "id": "e0730f0e-a8eb-453c-892e-697e6ea2de1d",
   "metadata": {
    "tags": []
   },
   "outputs": [],
   "source": [
    "class CNA(nn.Module):\n",
    "    def __init__(self, in_nc, out_nc, stride=1):\n",
    "        super().__init__()\n",
    "        \n",
    "        self.conv = nn.Conv2d(in_nc, out_nc, 3, stride=stride, padding=1, bias=False)\n",
    "        self.norm = nn.BatchNorm2d(out_nc)\n",
    "        self.act = nn.GELU()\n",
    "        \n",
    "    def forward(self, x):\n",
    "        out = self.conv(x)\n",
    "        out = self.norm(out)\n",
    "        out = self.act(out)\n",
    "        \n",
    "        return out"
   ]
  },
  {
   "cell_type": "code",
   "execution_count": 49,
   "id": "fe3396da-f167-4fbb-a980-f7fb0f6793f0",
   "metadata": {
    "tags": []
   },
   "outputs": [],
   "source": [
    "class UnetBlock(nn.Module):\n",
    "    def __init__(self, in_nc, inner_nc, out_nc, inner_block=None):\n",
    "        super().__init__()\n",
    "        \n",
    "        self.conv1 = CNA(in_nc, inner_nc, stride=2)\n",
    "        self.conv2 = CNA(inner_nc, inner_nc)\n",
    "        self.inner_block = inner_block\n",
    "        self.conv3 = CNA(inner_nc, inner_nc)\n",
    "        self.conv_cat = nn.Conv2d(inner_nc+in_nc, out_nc, 3, padding=1)\n",
    "    \n",
    "    def forward(self, x):\n",
    "        _,_,h,w = x.shape\n",
    "        \n",
    "        inner = self.conv1(x)\n",
    "        inner = self.conv2(inner)\n",
    "        if self.inner_block is not None:\n",
    "            inner = self.inner_block(inner)\n",
    "        inner = self.conv3(inner)\n",
    "        \n",
    "        inner = F.upsample(inner, size=(h,w), mode='bilinear')\n",
    "        inner = torch.cat((x, inner), axis=1)\n",
    "        out = self.conv_cat(inner)\n",
    "        \n",
    "        return out\n",
    "        "
   ]
  },
  {
   "cell_type": "code",
   "execution_count": 50,
   "id": "08eae0be-28f5-493e-a76d-ae9e2b848093",
   "metadata": {
    "tags": []
   },
   "outputs": [],
   "source": [
    "class Unet(nn.Module):\n",
    "    def __init__(self, nc):\n",
    "        super().__init__()\n",
    "        \n",
    "        self.cna1 = CNA(1, nc)\n",
    "        self.cna2 = CNA(nc, nc)\n",
    "        \n",
    "        unet_block = UnetBlock(8*nc, 8*nc, 8*nc)\n",
    "        unet_block = UnetBlock(4*nc, 8*nc, 4*nc, unet_block)\n",
    "        unet_block = UnetBlock(2*nc, 4*nc, 2*nc, unet_block)\n",
    "        self.unet_block = UnetBlock(nc, 2*nc, nc, unet_block)\n",
    "        \n",
    "        self.cna3 = CNA(nc, nc)\n",
    "        \n",
    "        self.conv_last = nn.Conv2d(nc, 1, 3, padding=1)\n",
    "        \n",
    "    def forward(self, x):\n",
    "        out = self.cna1(x)\n",
    "        out = self.cna2(out)\n",
    "        out = self.unet_block(out)\n",
    "        out = self.cna3(out)\n",
    "        out = self.conv_last(out)\n",
    "        return out\n"
   ]
  },
  {
   "cell_type": "code",
   "execution_count": 51,
   "id": "a435ab25-c0d9-4e12-a7d6-1377191b4897",
   "metadata": {},
   "outputs": [],
   "source": [
    "unet_model = Unet(32)"
   ]
  },
  {
   "cell_type": "code",
   "execution_count": 52,
   "id": "9813190c-6216-4cb3-8e73-084c1dd6e1f1",
   "metadata": {},
   "outputs": [],
   "source": [
    "tensor = torch.rand((1, 1, 64, 64))"
   ]
  },
  {
   "cell_type": "code",
   "execution_count": 54,
   "id": "7650d6ea-322f-469a-a927-31d66d88f3b2",
   "metadata": {
    "tags": []
   },
   "outputs": [
    {
     "data": {
      "text/plain": [
       "tensor([[[[ 0.0187,  0.0090, -0.0205,  ..., -0.0490, -0.0365, -0.0842],\n",
       "          [ 0.5774,  0.4081,  0.2086,  ..., -0.2683,  0.0204, -0.1817],\n",
       "          [ 0.0774, -0.0725,  0.1987,  ...,  0.0563,  0.0691,  0.0029],\n",
       "          ...,\n",
       "          [ 0.1125, -0.4866, -0.1995,  ..., -0.3262, -0.3429, -0.5147],\n",
       "          [ 0.1388,  0.1593,  0.1902,  ..., -0.2675, -0.3342,  0.0208],\n",
       "          [ 0.3765,  0.4812,  0.3691,  ..., -0.0015,  0.1953, -0.0622]]]],\n",
       "       grad_fn=<ConvolutionBackward0>)"
      ]
     },
     "execution_count": 54,
     "metadata": {},
     "output_type": "execute_result"
    }
   ],
   "source": [
    "res = unet_model(tensor)\n",
    "res"
   ]
  },
  {
   "cell_type": "code",
   "execution_count": null,
   "id": "91e72896-c5b1-4203-b37f-66ba644e4dc4",
   "metadata": {},
   "outputs": [],
   "source": []
  },
  {
   "cell_type": "code",
   "execution_count": null,
   "id": "d02dfa6c-369d-4380-b993-04a038e5e67f",
   "metadata": {},
   "outputs": [],
   "source": []
  }
 ],
 "metadata": {
  "kernelspec": {
   "display_name": "Python 3 (ipykernel)",
   "language": "python",
   "name": "python3"
  },
  "language_info": {
   "codemirror_mode": {
    "name": "ipython",
    "version": 3
   },
   "file_extension": ".py",
   "mimetype": "text/x-python",
   "name": "python",
   "nbconvert_exporter": "python",
   "pygments_lexer": "ipython3",
   "version": "3.11.5"
  }
 },
 "nbformat": 4,
 "nbformat_minor": 5
}
